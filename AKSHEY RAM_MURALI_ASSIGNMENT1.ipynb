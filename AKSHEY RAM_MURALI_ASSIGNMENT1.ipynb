{
  "cells": [
    {
      "cell_type": "markdown",
      "metadata": {
        "id": "KH1K6cXFvnmj"
      },
      "source": [
        "<div align=\"center\"> <h3><font color='cyan'>CSE 574 Sections C&D: Introduction to Machine Learning, Spring 2022 </font> \n",
        "<h1> Assignment 1 - Python Intro\n",
        "\n",
        "<h3>Checkpoint: February 13, Sun, 11:59pm\n",
        "<h2><font color='red'>Final Due Date: </font> February 20, Sun, 11:59pm</div>\n",
        "\n",
        "Welcome to your first CSE 574 assignment! The goal of this assignment is to sharpen your programming skills needed for this class. It is focused on familiarizing yourself with Python and main data science libraries that will be used for other assignments as well.\n",
        "\n",
        "There are a total of five parts. We will focus on basic Python functions, explore numpy, pandas and matplotlib libraries and analyze the real-world dataset.\n",
        "\n",
        "If you are new to Python, check our [Python resources page](https://ubuffalo-my.sharepoint.com/:w:/g/personal/avereshc_buffalo_edu/ESoUg6v6aoJImaeWXy90SqMBiubxGGAkG7dhaNyhuBum_w?e=3Tlwbz) and our class demos.\n",
        "\n",
        "\n",
        "### Submission\n",
        "\n",
        "All the details you need for this assignment are located within this notebook. You are expected to follow every block and complete the task within the marks ``` # BEGIN_YOUR_CODE ``` and ```# END_YOUR_CODE```, as well as adding an Academic Integrity statement at the beginning within the marks ```# ADD YOUR ACADEMIC INTERGITY STATEMENT``` and ```# END OF YOUR ACADEMIC INTERGITY STATEMENT```. Do not modify or edit code beyond these lines. You can add helper functions in the new cells, if needed. We recommend completing the task within this .ipynb notebook, if needed you can convert it and submit as .py script. Try to make your code as clean and simple as possible and be sure to write your answers between the begin answer and end answer comments.\n",
        "\n",
        "1. Submit at **UBLearns > Assignments**\n",
        "2. The code of your implementations should be written in Python\n",
        "3. All project files should be packed in a ZIP file named YOUR_FIRST_NAME_YOUR_LAST_NAME_assignment1.zip (e.g. alina_vereshchaka_assignment1.zip).\n",
        "4. Your Jupyter notebook should be saved with the results. If you are submitting python scripts, after extracting the ZIP file and executing command python main.py in the first level directory, all the generated results and plots you used in your report should appear printed out in a clear manner.  \n",
        "6. Include all the references that have been used to complete the assignment.\n",
        "\n",
        "### Checkpoint Submission <font color='red'>[Due Date: Feb 13]</font>\n",
        "Complete Part 1, Part 2 and Part 3 and submit the code in the ZIP file named YOUR_FIRST_NAME_YOUR_LAST_NAME_assignment1_checkpoint.zip. Checkpoint will be evaluated after the final submission.\n",
        "\n",
        "### Final Submission <font color='red'>[Due Date: Feb 20]</font>\n",
        "Complete all parts of the assignment and submit the code in the ZIP file named YOUR_FIRST_NAME_YOUR_LAST_NAME_assignment1_final.zip. You may add slight modification to your Checkpoint submission if needed.\n",
        "\n",
        "**Assignment Outline**\n",
        "\n",
        "| Part | Description | # of tasks | Points |\n",
        "| --- | --- | --- | --- |\n",
        "| [Part 1](#part1) | Basics | 10 | 20 |\n",
        "| [Part 2](#part2) | Numpy Basics | 11 | 20 |\n",
        "| [Part 3](#part3) | Algorithms | 2 | 20 |\n",
        "| [Part 4](#part4) | Pandas Basics | 8 | 20 |\n",
        "| [Part 5](#part5) | Matplotlib Basics | 9 | 20 |\n",
        "\n",
        "    \n",
        "### Academic Integrity\n",
        "\n",
        "This assignment must be completed individually.\n",
        "The standing policy of the Department is that all students involved in any academic integrity violation (e.g. plagiarism in any way, shape, or form) will receive an F grade for the course. The catalog describes plagiarism as “Copying or receiving material from any source and submitting that material as one’s own, without acknowledging and citing the particular debts to the source, or in any other manner representing the work of another as one’s own.”. Refer to the [Office of Academic Integrity](https://www.buffalo.edu/academic-integrity.html) for more details.\n",
        "\n",
        "### <font color='red'>IMPORTANT NOTE</font>\n",
        "In order to certify that you followed Academic Integrity policy while completing the assignment, please include the following statement as a comment block. In case you submit multiple files, add this statement at the beginning of each code file submitted: \n",
        "\n",
        "\"I certify that the code and data in this assignment were generated independently, using only the tools and resources defined in the course and that I did not receive any external help, coaching or contributions during the production of this work.\"\n",
        "\n",
        "Submissions without the academic integrity statement will not be evaluated and will receive a 0.\n",
        "\n",
        "### Late Days Policy\n",
        "You can use up to 7 late days throughout the course toward any assignments' checkpoint or final submission. You do not have to inform the instructor, as the late submission will be tracked in UBlearns.\n",
        "\n",
        "### FAQ\n",
        ">What does 'raise Exception(\"Not implemented yet\")' mean?\n",
        "\n",
        "Here we define a custom exception to highlight that the task is not implemented yet. Once you implement your code, ensure to remove this part.\n",
        "\n",
        ">Can I add code beyond # BEGIN_YOUR_CODE parts.\n",
        "\n",
        "Yes, you can add helper functions. Add them in the separate cell with the comments, why you need it\n"
      ]
    },
    {
      "cell_type": "markdown",
      "metadata": {
        "id": "gEPxymysk1yP"
      },
      "source": [
        "## START COMPLETING YOUR ASSIGNMENT HERE"
      ]
    },
    {
      "cell_type": "code",
      "execution_count": 14,
      "metadata": {
        "id": "1vHg3uLjk1yQ"
      },
      "outputs": [],
      "source": [
        "# ADD YOUR ACADEMIC INTERGITY STATEMENT HERE AS A COMMENT BLOCK BELOW. CHECK IMPORTANT NOTE FOR MORE DETAILS.\n",
        "\n",
        "\n",
        "\n",
        "I certify that the code and data in this assignment were generated independently, using only the tools and resources defined in the course and that I did not receive any external help, coaching or contributions during the production of this work.\n",
        "\n",
        "\n",
        "\n",
        "\n",
        "# END OF YOUR ACADEMIC INTERGITY STATEMENT"
      ]
    },
    {
      "cell_type": "markdown",
      "metadata": {
        "id": "RiMGYifjvnmy"
      },
      "source": [
        "<a id='part1'></a>\n",
        "## Part 1 - Pyhton Basics [20 points]"
      ]
    },
    {
      "cell_type": "markdown",
      "metadata": {
        "id": "2LUCpwD6vnm1"
      },
      "source": [
        "The first part of this assignment gives you practice with python syntax. Follow the cells below for the instructions."
      ]
    },
    {
      "cell_type": "code",
      "execution_count": 120,
      "metadata": {
        "colab": {
          "base_uri": "https://localhost:8080/"
        },
        "id": "pYW7jZF2vnm2",
        "outputId": "1cdda47a-e2c3-4844-e260-8e4cb33fbb06"
      },
      "outputs": [
        {
          "output_type": "stream",
          "name": "stdout",
          "text": [
            "hello hello hello hello hello hello hello hello hello hello hello hello hello hello hello hello hello hello hello hello hello hello hello hello hello hello hello hello hello hello hello hello hello hello hello hello hello hello hello hello hello hello hello hello hello hello hello hello hello hello hello hello hello hello hello hello hello hello hello hello hello hello hello hello hello hello hello hello hello hello hello hello hello hello hello hello hello hello hello hello hello hello hello hello hello hello hello hello hello hello hello hello hello hello hello hello hello hello hello hello hello \n"
          ]
        }
      ],
      "source": [
        "''' Hello\n",
        "Print a word \"Hello \" 101 times\n",
        "'''\n",
        "\n",
        "# BEGIN_YOUR_CODE\n",
        "\n",
        "print(\"hello \"*101)\n",
        "\n",
        "\n",
        "# END_YOUR_CODE"
      ]
    },
    {
      "cell_type": "code",
      "execution_count": 121,
      "metadata": {
        "colab": {
          "base_uri": "https://localhost:8080/"
        },
        "id": "DYzPFqjEk1yU",
        "outputId": "9845e1fc-fd01-42c7-8f68-251b442a1266"
      },
      "outputs": [
        {
          "output_type": "stream",
          "name": "stdout",
          "text": [
            "Hello UB\n"
          ]
        }
      ],
      "source": [
        "''' Hello World\n",
        "Using two variables hello and world defined below return 'Hello UB'. \n",
        "'''\n",
        "\n",
        "hello  = 'hello'\n",
        "world = 'ub'\n",
        "\n",
        "# BEGIN_YOUR_CODE\n",
        "print (hello.capitalize()+\" \"+world.upper())\n",
        "# END_YOUR_CODE"
      ]
    },
    {
      "cell_type": "code",
      "execution_count": 122,
      "metadata": {
        "colab": {
          "base_uri": "https://localhost:8080/"
        },
        "id": "ReJWkGjKk1yU",
        "outputId": "4d5b4f28-35c7-4ed4-a23c-5926329abb5d"
      },
      "outputs": [
        {
          "output_type": "stream",
          "name": "stdout",
          "text": [
            "[0, 1, 2, 3, 4, 5]\n"
          ]
        }
      ],
      "source": [
        "''' Updating elements\n",
        "Given a string my_list, update the third element to '2' and fourth element to '3', so the output is as follows: [0, 1, 2, 3, 4, 5]\n",
        "'''\n",
        "\n",
        "my_list = [0, 1, 'two', 'three', 4, 5]\n",
        "\n",
        "# BEGIN_YOUR_CODE\n",
        "my_list[2]=2\n",
        "my_list[3]=3\n",
        "print(my_list)\n",
        "# END_YOUR_CODE"
      ]
    },
    {
      "cell_type": "code",
      "execution_count": 123,
      "metadata": {
        "colab": {
          "base_uri": "https://localhost:8080/"
        },
        "id": "HNPtNtWFk1yV",
        "outputId": "13d48c24-ef41-4f71-8403-8d3693207287"
      },
      "outputs": [
        {
          "output_type": "stream",
          "name": "stdout",
          "text": [
            "0\n",
            "1\n",
            "1\n",
            "2\n",
            "3\n",
            "5\n",
            "8\n",
            "13\n",
            "21\n",
            "34\n",
            "55\n",
            "89\n"
          ]
        }
      ],
      "source": [
        "'''Fibonacci Series\n",
        "Print the first 12 Fibonacci numbers\n",
        "'''\n",
        "\n",
        "# BEGIN_YOUR_CODE\n",
        "n=12\n",
        "n1=0\n",
        "n2=1\n",
        "c=0\n",
        "\n",
        "if n<=0:\n",
        "    print(\"not possible\")\n",
        "    \n",
        "elif n==0:\n",
        "    print(n1)\n",
        "    \n",
        "else:\n",
        "    while c<n:\n",
        "        print(n1)\n",
        "        sum=n1+n2\n",
        "        n1=n2\n",
        "        n2=sum\n",
        "        c+=1\n",
        "# END_YOUR_CODE"
      ]
    },
    {
      "cell_type": "code",
      "execution_count": 124,
      "metadata": {
        "colab": {
          "base_uri": "https://localhost:8080/"
        },
        "id": "eQ7SJvrLvnm5",
        "outputId": "86520169-5901-4e79-dec8-b778a50b02b4"
      },
      "outputs": [
        {
          "output_type": "stream",
          "name": "stdout",
          "text": [
            "['The Matrix Resurrections', 'The Matrix Revolutions', 'The Matrix Reloaded', 'The Matrix']\n"
          ]
        }
      ],
      "source": [
        "''' Reversing\n",
        "Reverse the order of elements in a list given below, so the output is as follows: ['The Matrix Resurrections', 'The Matrix Revolutions', 'The Matrix Reloaded', 'The Matrix']\n",
        "'''\n",
        "\n",
        "list1 = [\"The Matrix\", \"The Matrix Reloaded\", \"The Matrix Revolutions\", \"The Matrix Resurrections\"]\n",
        "\n",
        "# BEGIN_YOUR_CODE\n",
        "print(list1[::-1])\n",
        "# END_YOUR_CODE"
      ]
    },
    {
      "cell_type": "code",
      "execution_count": 125,
      "metadata": {
        "colab": {
          "base_uri": "https://localhost:8080/"
        },
        "id": "G472Jj3gvnm6",
        "outputId": "dd81c25e-3e74-40ec-dc40-47a42e66d536"
      },
      "outputs": [
        {
          "output_type": "stream",
          "name": "stdout",
          "text": [
            "python\n"
          ]
        }
      ],
      "source": [
        "'''Concatenating strings\n",
        "Concatenate strings in a list below, so the output is as follows: \"python\"\n",
        "'''\n",
        "\n",
        "list2 = ['p', 'y', 't', 'h', 'o', 'n']\n",
        "\n",
        "# BEGIN_YOUR_CODE\n",
        "list =''.join(list2)\n",
        "print(list)\n",
        "# END_YOUR_CODE"
      ]
    },
    {
      "cell_type": "code",
      "execution_count": 126,
      "metadata": {
        "colab": {
          "base_uri": "https://localhost:8080/"
        },
        "id": "vsIKrnuFvnm7",
        "outputId": "25dad988-318f-4bf7-dfcd-81562a57b74f"
      },
      "outputs": [
        {
          "output_type": "stream",
          "name": "stdout",
          "text": [
            "[1, 'Yann LeCun', 2, 'Yoshua Bengio', 3, 'Geoffrey Hinton', 4, 'Fei-Fei Li', 5, 'Andrew Ng']\n"
          ]
        }
      ],
      "source": [
        "'''Numbering a list\n",
        "Print a numbered list of the famous AI researchers using \"enumerate()\" function\n",
        "'''\n",
        "\n",
        "researchers = ['Yann LeCun', 'Yoshua Bengio', 'Geoffrey Hinton', 'Fei-Fei Li', 'Andrew Ng']\n",
        "\n",
        "# BEGIN_YOUR_CODE\n",
        "list1=[]\n",
        "for i,j in enumerate(researchers,1):\n",
        "    list1.append(i)\n",
        "    list1.append(j)\n",
        "print ((list1))\n",
        "# END_YOUR_CODE"
      ]
    },
    {
      "cell_type": "code",
      "execution_count": 127,
      "metadata": {
        "colab": {
          "base_uri": "https://localhost:8080/"
        },
        "id": "Izsh0n6Hvnm8",
        "outputId": "d484aca9-5995-42b4-af43-f508d4871945"
      },
      "outputs": [
        {
          "output_type": "stream",
          "name": "stdout",
          "text": [
            "('Yann LeCun', 'Facebook')\n",
            "('Yoshua Bengio', 'Université de Montréal')\n",
            "('Geoffrey Hinton', 'University of Toronto')\n",
            "('Fei-Fei Li', 'Stanford University')\n",
            "('Andrew Ng', 'Landing AI')\n"
          ]
        }
      ],
      "source": [
        "'''Combining lists\n",
        "Combine two lists given below using zip() fucntion and print out the result\n",
        "'''\n",
        "\n",
        "researchers = ['Yann LeCun', 'Yoshua Bengio', 'Geoffrey Hinton', 'Fei-Fei Li', 'Andrew Ng']\n",
        "work = ['Facebook', 'Université de Montréal', 'University of Toronto', 'Stanford University', 'Landing AI']\n",
        "\n",
        "# BEGIN_YOUR_CODE\n",
        "for i,j in zip(researchers ,work):\n",
        "    print((i,j))\n",
        "  \n",
        "\n",
        "\n",
        "# END_YOUR_CODE"
      ]
    },
    {
      "cell_type": "code",
      "execution_count": 128,
      "metadata": {
        "colab": {
          "base_uri": "https://localhost:8080/"
        },
        "id": "ifLM8heXk1ya",
        "outputId": "f28e8998-8bde-43c8-9226-6126ceb4a2eb"
      },
      "outputs": [
        {
          "output_type": "stream",
          "name": "stdout",
          "text": [
            "[1, 4, 27, 16, 125, 36, 343, 64, 729, 100, 1331, 144]\n"
          ]
        }
      ],
      "source": [
        "'''Print squares of even numbers and cubes of odd numbers for numbers from 1 till 12.\n",
        "So the output comes in the form as follows: [1, 4, 27, 16, 125, 36, ....]\n",
        "'''\n",
        "\n",
        "# BEGIN_YOUR_CODE\n",
        "list1=[]\n",
        "for i in range(1,13):\n",
        "    if i%2==0:\n",
        "        list1.append(i*i)\n",
        "    else:\n",
        "         list1.append(i*i*i)\n",
        "print(list1)\n",
        "# END_YOUR_CODE"
      ]
    },
    {
      "cell_type": "code",
      "execution_count": 129,
      "metadata": {
        "id": "tM242AlVvnm9"
      },
      "outputs": [],
      "source": [
        "''' Sum function\n",
        "Modify the function below to return a sum of a and b\n",
        "'''\n",
        "\n",
        "def add(a: int, b: int) -> int:\n",
        "    \n",
        "    # BEGIN_YOUR_CODE\n",
        "    x=a+b\n",
        "    return(x)\n",
        "    raise Exception(\"Not implemented yet\")\n",
        "\n",
        "    # END_YOUR_CODE"
      ]
    },
    {
      "cell_type": "markdown",
      "metadata": {
        "id": "o4HwFdtlvnm_"
      },
      "source": [
        "We defined ```add_test``` to test your ```add``` function. For this function we ```import random``` library. This is a very commonly used package that helps to generate random values. For example:\n",
        "\n",
        "``` python\n",
        "random.randint(0, 100) #Returns any random integer from 0 to 100\n",
        "```"
      ]
    },
    {
      "cell_type": "code",
      "execution_count": 130,
      "metadata": {
        "id": "TfVs9QUIvnnA"
      },
      "outputs": [],
      "source": [
        "import random\n",
        "\n",
        "def add_test():\n",
        "    a = random.randint(0, 9)\n",
        "    b = random.randint(0, 9)\n",
        "    result = add(a, b)\n",
        "\n",
        "    return('Value of a is {0}, value of b is {1}, and their sum is {2}.'.format(a, b,result))"
      ]
    },
    {
      "cell_type": "code",
      "execution_count": 131,
      "metadata": {
        "colab": {
          "base_uri": "https://localhost:8080/"
        },
        "id": "cOLrlf2GvnnB",
        "outputId": "1bfe21b3-4db5-4838-ceb8-76caff8caa01"
      },
      "outputs": [
        {
          "output_type": "stream",
          "name": "stdout",
          "text": [
            "Value of a is 8, value of b is 2, and their sum is 10.\n"
          ]
        }
      ],
      "source": [
        "# Here we call our function 'add_test' to test your add function with random values\n",
        "if __name__ == '__main__':\n",
        "    print(add_test())"
      ]
    },
    {
      "cell_type": "markdown",
      "metadata": {
        "id": "12yDhDMxvnnB"
      },
      "source": [
        "<a id='part2'></a>\n",
        "## Part 2 - Numpy Basics [20 points]"
      ]
    },
    {
      "cell_type": "markdown",
      "metadata": {
        "id": "-JmI82NyvnnC"
      },
      "source": [
        "In this section we will explore one of the most commonly used package - Numpy. You can refer to the [Official NumPy Guide](https://numpy.org/doc/stable/)."
      ]
    },
    {
      "cell_type": "code",
      "execution_count": 132,
      "metadata": {
        "id": "CstiC-8CvnnC"
      },
      "outputs": [],
      "source": [
        "'''Import the numpy package\n",
        "'''\n",
        "\n",
        "# BEGIN_YOUR_CODE\n",
        "import numpy as np\n",
        "# END_YOUR_CODE"
      ]
    },
    {
      "cell_type": "code",
      "execution_count": 133,
      "metadata": {
        "colab": {
          "base_uri": "https://localhost:8080/"
        },
        "id": "2Cdaj9aTvnnE",
        "outputId": "ab451c44-40c0-47ae-9e2c-6f715ff473af"
      },
      "outputs": [
        {
          "output_type": "stream",
          "name": "stdout",
          "text": [
            "[34  0 25 24 26 43  8 37  2 34]\n"
          ]
        }
      ],
      "source": [
        "''' Random integers\n",
        "Create an array of random integers from 0 to 50 with the length 10 using numpy random generator\n",
        "'''\n",
        "\n",
        "# BEGIN_YOUR_CODE\n",
        "array = np.random.randint(50, size=(10))\n",
        "# END_YOUR_CODE\n",
        "\n",
        "print(array)"
      ]
    },
    {
      "cell_type": "code",
      "execution_count": 134,
      "metadata": {
        "colab": {
          "base_uri": "https://localhost:8080/"
        },
        "id": "D_NEdSyVvnnF",
        "outputId": "52f17625-ec1d-44fe-a75d-4153a1c2212a"
      },
      "outputs": [
        {
          "output_type": "stream",
          "name": "stdout",
          "text": [
            "The first 2 elements are [34  0] \n",
            "The last two elements are [ 2 34] \n",
            "Elements in the middle are [25 24 26 43  8 37] \n"
          ]
        }
      ],
      "source": [
        "''' Slicing\n",
        "Slice the above array and extract the first 2 elements, the last two elements, and all elements that are left in the middle.\n",
        "'''\n",
        "\n",
        "# BEGIN_YOUR_CODE\n",
        "first_two = array[:2]\n",
        "last_two = array[8:]\n",
        "middle = array[2:8]\n",
        "# END_YOUR_CODE\n",
        "\n",
        "print('The first 2 elements are {0} \\nThe last two elements are {1} \\nElements in the middle are {2} '.format(first_two, last_two, middle))"
      ]
    },
    {
      "cell_type": "code",
      "execution_count": 135,
      "metadata": {
        "colab": {
          "base_uri": "https://localhost:8080/"
        },
        "id": "A3sZ6JDAk1yf",
        "outputId": "09dae97a-cb17-4812-b736-0523e82ec8a3"
      },
      "outputs": [
        {
          "output_type": "stream",
          "name": "stdout",
          "text": [
            "[array([34,  0]), array([25, 24]), array([26, 43]), array([ 8, 37]), array([ 2, 34])]\n"
          ]
        }
      ],
      "source": [
        "'''Split an array\n",
        "For the above list 'array' split the list into 5 equal parts  and print it in the form\n",
        "[array([1,2]), array([3,4]), array([5,6]), array([7,8]), array([9,10])]\n",
        "\n",
        "'''\n",
        "\n",
        "# BEGIN_YOUR_CODE\n",
        "splittt = np.array_split(array,5)\n",
        "print(splittt)\n",
        "# END_YOUR_CODE"
      ]
    },
    {
      "cell_type": "code",
      "execution_count": 136,
      "metadata": {
        "colab": {
          "base_uri": "https://localhost:8080/"
        },
        "id": "1HEJR1Fuk1yf",
        "outputId": "259016ca-9b2b-48c0-922d-f31674f54d3b"
      },
      "outputs": [
        {
          "output_type": "stream",
          "name": "stdout",
          "text": [
            "[93 99 66 69  8 27 35  3 88 37]\n",
            "[36 93  0 20 29 72 43 74 92 27]\n",
            "[ 3  8 27 35 37 66 69 88 93 99]\n",
            "[27 93]\n"
          ]
        }
      ],
      "source": [
        "'''Generate two arrays of size 10 (integers randomly selected between 1 and 100). \n",
        "Print unique elements of array1 and common elements of both arrays separately\n",
        "'''\n",
        "\n",
        "# BEGIN_YOUR_CODE\n",
        "array1 = np.random.randint(100,size=(10))\n",
        "array2 = np.random.randint(100,size=(10))\n",
        "unique_elements_array1 = np.unique(array1) \n",
        "common_elements_array1_array2 = np.intersect1d(array1,array2)\n",
        "print(array1)\n",
        "print(array2)\n",
        "print(unique_elements_array1) \n",
        "print(common_elements_array1_array2)  \n",
        "# END_YOUR_CODE"
      ]
    },
    {
      "cell_type": "code",
      "execution_count": 137,
      "metadata": {
        "colab": {
          "base_uri": "https://localhost:8080/"
        },
        "id": "x39Fry3OvnnF",
        "outputId": "b53db488-e583-4270-f238-70d009452dc6"
      },
      "outputs": [
        {
          "output_type": "stream",
          "name": "stdout",
          "text": [
            "[[34  0]\n",
            " [25 24]\n",
            " [26 43]\n",
            " [ 8 37]\n",
            " [ 2 34]]\n"
          ]
        }
      ],
      "source": [
        "'''Changing dimensions\n",
        "Convert your 1D array defined above to a 2D matrix and print its shape. The final output dimension should be 5x2.\n",
        "'''\n",
        "\n",
        "# BEGIN_YOUR_CODE\n",
        "new2d=np.reshape(array,(5,2))\n",
        "print(new2d)\n",
        "# END_YOUR_CODE"
      ]
    },
    {
      "cell_type": "code",
      "execution_count": 138,
      "metadata": {
        "colab": {
          "base_uri": "https://localhost:8080/"
        },
        "id": "GTPk6XwivnnG",
        "outputId": "44bdffe7-32ea-4dd3-a6a8-af236465f1e7"
      },
      "outputs": [
        {
          "output_type": "stream",
          "name": "stdout",
          "text": [
            "[1 2 3 4 5 6]\n",
            "1\n"
          ]
        }
      ],
      "source": [
        "'''Changing dimensions\n",
        "Convert a matrix below to 1D array and print its dimension\n",
        "'''\n",
        "\n",
        "A = np.array([[1,2], [3,4], [5,6]])\n",
        "\n",
        "# BEGIN_YOUR_CODE\n",
        "newmat= A.flatten()\n",
        "d=newmat.ndim\n",
        "print(newmat)\n",
        "print(d)\n",
        "# END_YOUR_CODE"
      ]
    },
    {
      "cell_type": "code",
      "execution_count": 139,
      "metadata": {
        "colab": {
          "base_uri": "https://localhost:8080/"
        },
        "id": "ALyMwuojvnnM",
        "outputId": "171c80d0-bd05-4c90-8961-5f2da5c2220e"
      },
      "outputs": [
        {
          "output_type": "stream",
          "name": "stdout",
          "text": [
            "\n",
            "Matrix A is \n",
            "[[0.63732798 0.14448934 0.81647605 0.29769704 0.51771812 0.4553234 ]\n",
            " [0.96868642 0.51608084 0.44875199 0.73046014 0.18346637 0.67152071]\n",
            " [0.86520738 0.27080186 0.68938251 0.81511301 0.68767541 0.52307641]\n",
            " [0.04702582 0.4935126  0.18480465 0.32460264 0.20761727 0.40428985]\n",
            " [0.89690998 0.91171031 0.80239163 0.00389273 0.04685093 0.39552121]] \n",
            "Matrix B is \n",
            "[[0.61271653 0.81912379 0.43306174 0.24656179 0.82495971]\n",
            " [0.4215658  0.06003871 0.82132236 0.85835908 0.15223955]\n",
            " [0.40541475 0.1003387  0.62514684 0.70326202 0.3833765 ]\n",
            " [0.63029563 0.19232423 0.9022066  0.52262875 0.34476487]\n",
            " [0.53824833 0.61010535 0.50622686 0.78820578 0.050441  ]\n",
            " [0.1720215  0.43027082 0.54033828 0.49488852 0.41067775]], \n",
            "Their product is \n",
            "[[1.32704805 1.18167893 1.68178782 1.64434883 1.17652552]\n",
            " [1.66769519 1.41084088 2.23865555 1.85611058 1.58660599]\n",
            " [1.89765619 1.59552723 2.39422743 2.15748458 1.54980625]\n",
            " [0.69767588 0.44974437 1.15764142 1.09854209 0.47319317]\n",
            " [1.35490801 1.06944304 1.87978253 1.80271164 1.3524681 ]]\n"
          ]
        }
      ],
      "source": [
        "''' Matrices\n",
        "Create two matrices A and B of size 5X6 and 6X5 respectively with random values from 0 to 1, and perform the dot product on them\n",
        "'''\n",
        "\n",
        "# BEGIN_YOUR_CODE\n",
        "A =  np.random.random((5,6))\n",
        "B =   np.random.random((6,5))\n",
        "dot_product = np.dot(A,B)\n",
        "# END_YOUR_CODE\n",
        "\n",
        "print('\\nMatrix A is \\n{0} \\nMatrix B is \\n{1}, \\nTheir product is \\n{2}'.format(A, B, dot_product))"
      ]
    },
    {
      "cell_type": "code",
      "execution_count": 140,
      "metadata": {
        "colab": {
          "base_uri": "https://localhost:8080/"
        },
        "id": "cf2kSBLXvnnN",
        "outputId": "35ca1a9f-8459-492c-bdcf-ecb82343f461"
      },
      "outputs": [
        {
          "output_type": "stream",
          "name": "stdout",
          "text": [
            "[0.8164760502107526, 0.9686864166771254, 0.8652073786968626, 0.493512595595584, 0.9117103077486914]\n"
          ]
        }
      ],
      "source": [
        "''' Maximum value\n",
        "Return the maximum value present in each row of Matrix A created in the previous question. \n",
        "Result should come in the form: [row1_max row2_max row3_max row4_max row5_max]\n",
        "'''\n",
        "\n",
        "# BEGIN_YOUR_CODE\n",
        "row1_max= np.amax(A[0])\n",
        "row2_max= np.amax(A[1])\n",
        "row3_max= np.amax(A[2])\n",
        "row4_max= np.amax(A[3])\n",
        "row5_max= np.amax(A[4])\n",
        "\n",
        "max_value=[row1_max,row2_max,row3_max,row4_max,row5_max]\n",
        "\n",
        "print(max_value)\n",
        "# END_YOUR_CODE"
      ]
    },
    {
      "cell_type": "code",
      "execution_count": 141,
      "metadata": {
        "colab": {
          "base_uri": "https://localhost:8080/"
        },
        "id": "khuCG55GvnnO",
        "outputId": "b1fa3783-b87b-472c-ac4f-a7d05ea9aabe"
      },
      "outputs": [
        {
          "output_type": "stream",
          "name": "stdout",
          "text": [
            "[[1.91198394 0.43346803 2.44942815 0.89309111 1.55315436 1.36597019]\n",
            " [2.90605925 1.54824252 1.34625598 2.19138042 0.55039912 2.01456213]\n",
            " [2.59562214 0.81240558 2.06814752 2.44533902 2.06302622 1.56922922]\n",
            " [0.14107747 1.48053779 0.55441396 0.97380793 0.6228518  1.21286956]\n",
            " [2.69072993 2.73513092 2.4071749  0.01167818 0.14055278 1.18656362]]\n"
          ]
        }
      ],
      "source": [
        "''' Multiply the Matrix A from previous question with a scalar 3\n",
        "'''\n",
        "\n",
        "# BEGIN_YOUR_CODE\n",
        "\n",
        "final=A*3\n",
        "print(final)\n",
        "# END_YOUR_CODE"
      ]
    },
    {
      "cell_type": "code",
      "execution_count": 142,
      "metadata": {
        "colab": {
          "base_uri": "https://localhost:8080/"
        },
        "id": "KVFM3ERnvnnP",
        "outputId": "e6551f88-14ed-4995-8475-8ae5fddf8b30"
      },
      "outputs": [
        {
          "output_type": "stream",
          "name": "stdout",
          "text": [
            "\n",
            "Matrix A is \n",
            "[[5 4 6 0]\n",
            " [7 2 8 3]] \n",
            "Matrix B is \n",
            "[[4 7 6 2]\n",
            " [1 9 1 9]], \n",
            "Their element-wise multiplication is \n",
            "[[20 28 36  0]\n",
            " [ 7 18  8 27]]\n"
          ]
        }
      ],
      "source": [
        "''' Element-wise multiplication\n",
        "Define two matrices A and B 2x4 with random values from 0 to 9. Perform element-wise multiplication of Matrices A and B\n",
        "''' \n",
        "\n",
        "# BEGIN_YOUR_CODE\n",
        "A = np.random.randint(0,10, (2,4))\n",
        "B = np.random.randint(0,10, (2,4))\n",
        "multiplicaiton = np.multiply(A,B)\n",
        "# END_YOUR_CODE\n",
        "\n",
        "\n",
        "print('\\nMatrix A is \\n{0} \\nMatrix B is \\n{1}, \\nTheir element-wise multiplication is \\n{2}'.format(A, B, multiplicaiton))"
      ]
    },
    {
      "cell_type": "markdown",
      "metadata": {
        "id": "uiyFNoJivnnQ"
      },
      "source": [
        "<a id='part3'></a>\n",
        "## Part 3 - Algorithms [30 points]"
      ]
    },
    {
      "cell_type": "markdown",
      "metadata": {
        "id": "bE9PC_sEvnnQ"
      },
      "source": [
        "### Euclidian Distance\n",
        "\n",
        "Let point $p$ have Cartesian coordinates $(p_1,p_2)$ and let point $q$ have coordinates $(q_1,q_2)$. Then the distance between $p$ and $q$ is given by:\n",
        "    $d(p,q) = \\sqrt{(q_1-p_1)^2 + (q_2-p_2)^2}$.</math>"
      ]
    },
    {
      "cell_type": "code",
      "execution_count": 143,
      "metadata": {
        "id": "eWfSpbVqvnnR"
      },
      "outputs": [],
      "source": [
        "''' Euclidean distance\n",
        "Using numpy library return the Euclidean distance between two locations, where the locations are pairs of numbers (e.g., (3, 5)) '''\n",
        "import random\n",
        "def euclidean_distance(loc1: int, loc2: int) -> float:\n",
        "\n",
        "    # BEGIN_YOUR_CODE\n",
        "    \n",
        "    e_d= (((loc2[0]-loc1[0])**2+(loc2[1]-loc1[1])**2)**0.5)\n",
        "    return e_d\n",
        "    raise Exception(\"Not implemented yet\")\n",
        "    \n",
        "    # END_YOUR_CODE"
      ]
    },
    {
      "cell_type": "code",
      "execution_count": 144,
      "metadata": {
        "id": "aKXPrvGBvnnR"
      },
      "outputs": [],
      "source": [
        "def euclidean_distance_test():\n",
        "    random.seed(34)\n",
        "    for _ in range(10):\n",
        "        x1 = random.randint(0, 10)\n",
        "        x2 = random.randint(0, 10)\n",
        "        y1 = random.randint(0, 10)\n",
        "        y2 = random.randint(0, 10)\n",
        "        dist = euclidean_distance((x1, x2), (y1, y2))\n",
        "    return('Loc1 is ({0}, {1}), loc2 is ({2}, {3}). Euclidian disctance is {4}.'.format(x1, x2, y1, y2, dist))"
      ]
    },
    {
      "cell_type": "code",
      "execution_count": 145,
      "metadata": {
        "colab": {
          "base_uri": "https://localhost:8080/"
        },
        "id": "yI3g4R1hvnnR",
        "outputId": "fb43f501-ae82-47ea-8bfa-88c5eafa992b"
      },
      "outputs": [
        {
          "output_type": "stream",
          "name": "stdout",
          "text": [
            "Loc1 is (5, 3), loc2 is (3, 7). Euclidian disctance is 4.47213595499958.\n"
          ]
        }
      ],
      "source": [
        "if __name__ == '__main__':\n",
        "    print(euclidean_distance_test())"
      ]
    },
    {
      "cell_type": "markdown",
      "metadata": {
        "id": "lTuFruDrvnnR"
      },
      "source": [
        "### String Operations"
      ]
    },
    {
      "cell_type": "code",
      "execution_count": 146,
      "metadata": {
        "id": "AGJHIeXkvnnS"
      },
      "outputs": [],
      "source": [
        "''' Alphabetically first word\n",
        "Given a string, lowecase, sort our all words in the alphabetical order and return the word that comes first.\n",
        "If the input text is an empty string, return an empty string or throw an error. '''\n",
        "\n",
        "def first_word(text: str) -> str:\n",
        "    \n",
        "    # BEGIN_YOUR_CODE\n",
        "       if text!='':\n",
        "         h=text.split(' ')\n",
        "         l=[]\n",
        "         for i in h:\n",
        "           j=i.lower()\n",
        "           l.append(j)\n",
        "         l.sort()\n",
        "         return l[0] \n",
        "       else:\n",
        "        raise Exception(\"Not implemented yet\")\n",
        "\n",
        "   # END_YOUR_CODE"
      ]
    },
    {
      "cell_type": "code",
      "execution_count": 147,
      "metadata": {
        "id": "Suevhw9TvnnS"
      },
      "outputs": [],
      "source": [
        "def first_word_test():\n",
        "    result0 = first_word('WelCome tO Ub')\n",
        "    result1 = first_word('CSE574 IntRo to ML cLasS')\n",
        "    result2 = first_word('SequenCes of DeCiSions')\n",
        "    result3 = first_word('Wolf, Panther, Leopard, Dog, Cat')\n",
        "    return result0, result1, result2, result3"
      ]
    },
    {
      "cell_type": "code",
      "execution_count": 148,
      "metadata": {
        "colab": {
          "base_uri": "https://localhost:8080/"
        },
        "id": "DfSoFXLrvnnT",
        "outputId": "5902eb9a-6569-40a8-d2a1-97814d1e682e"
      },
      "outputs": [
        {
          "output_type": "stream",
          "name": "stdout",
          "text": [
            "('to', 'class', 'decisions', 'cat')\n"
          ]
        }
      ],
      "source": [
        "if __name__ == '__main__':\n",
        "    print(first_word_test())"
      ]
    },
    {
      "cell_type": "markdown",
      "metadata": {
        "id": "zW6tTqawDOBv"
      },
      "source": [
        "## Load from Drive*\n",
        "\n",
        "*If you are using Goolge Colab, uncomment the following piece of code and verify the file using the command, if you can see your file ```museum.csv``` you are good to go."
      ]
    },
    {
      "cell_type": "code",
      "execution_count": 44,
      "metadata": {
        "id": "xglk0dMOk1yp"
      },
      "outputs": [],
      "source": [
        "# !pwd\n",
        "# !ls"
      ]
    },
    {
      "cell_type": "code",
      "execution_count": 45,
      "metadata": {
        "id": "nV7Jv5SPDGsy"
      },
      "outputs": [],
      "source": [
        "#from google.colab import drive\n",
        "#drive.mount('/content/drive')\n",
        "#%cd ..\n",
        "#%cd /content/drive/MyDrive"
      ]
    },
    {
      "cell_type": "markdown",
      "metadata": {
        "id": "zGMa8NVpvnnU"
      },
      "source": [
        "<a id='part4'></a>\n",
        "##  Part 4 - Pandas Basics [20 points]\n",
        "\n",
        "Some important resources:\n",
        "\n",
        "- [A Pandas guide](https://pandasguide.readthedocs.io/en/latest/) covers fundamental information about the package\n",
        "\n",
        "- [Pandas Cheat Sheet](https://www.datacamp.com/community/blog/python-pandas-cheat-sheet)"
      ]
    },
    {
      "cell_type": "code",
      "execution_count": 46,
      "metadata": {
        "id": "-JA6l-hpvnnU",
        "colab": {
          "base_uri": "https://localhost:8080/",
          "height": 686
        },
        "outputId": "0687cc37-4213-41d6-f678-683033f0a481"
      },
      "outputs": [
        {
          "output_type": "execute_result",
          "data": {
            "application/vnd.google.colaboratory.intrinsic+json": {
              "type": "string"
            },
            "text/plain": [
              "'Install and import pandas library\\n'"
            ]
          },
          "metadata": {},
          "execution_count": 46
        }
      ],
      "source": [
        "'''Install and import pandas library\n",
        "'''\n",
        "\n",
        "# BEGIN_YOUR_CODE\n",
        "\n",
        "# END_YOUR_CODE"
      ]
    },
    {
      "cell_type": "code",
      "execution_count": 47,
      "metadata": {
        "colab": {
          "base_uri": "https://localhost:8080/",
          "height": 941
        },
        "id": "vNYL_RNyvnnV",
        "outputId": "948e4371-6d8a-45ba-d22b-9bd36dab1b62"
      },
      "outputs": [
        {
          "output_type": "execute_result",
          "data": {
            "application/vnd.google.colaboratory.intrinsic+json": {
              "type": "string"
            },
            "text/plain": [
              "\"Read given 'DataFile' and extract into Dataframe\\n\""
            ]
          },
          "metadata": {},
          "execution_count": 47
        }
      ],
      "source": [
        "'''Read given 'DataFile' and extract into Dataframe\n",
        "'''\n",
        "\n",
        "# BEGIN_YOUR_CODE\n",
        "\n",
        "# END_YOUR_CODE"
      ]
    },
    {
      "cell_type": "code",
      "execution_count": 48,
      "metadata": {
        "colab": {
          "base_uri": "https://localhost:8080/",
          "height": 1000
        },
        "id": "nQhbLF7CvnnV",
        "outputId": "4d74f46c-c051-4fd7-aeaa-193a0280f53f"
      },
      "outputs": [
        {
          "output_type": "execute_result",
          "data": {
            "application/vnd.google.colaboratory.intrinsic+json": {
              "type": "string"
            },
            "text/plain": [
              "'Provide the main statistics about the entries of the dataset (mean, std, etc.)\\n'"
            ]
          },
          "metadata": {},
          "execution_count": 48
        }
      ],
      "source": [
        "'''Provide the main statistics about the entries of the dataset (mean, std, etc.)\n",
        "'''\n",
        "\n",
        "# BEGIN_YOUR_CODE\n",
        "\n",
        "# END_YOUR_CODE"
      ]
    },
    {
      "cell_type": "code",
      "execution_count": 49,
      "metadata": {
        "colab": {
          "base_uri": "https://localhost:8080/",
          "height": 567
        },
        "id": "JnuZGhGwvnnW",
        "outputId": "25170f76-f244-4756-cab9-56a941fd5fb5"
      },
      "outputs": [
        {
          "output_type": "execute_result",
          "data": {
            "application/vnd.google.colaboratory.intrinsic+json": {
              "type": "string"
            },
            "text/plain": [
              "' Print shape of the dataset '"
            ]
          },
          "metadata": {},
          "execution_count": 49
        }
      ],
      "source": [
        "''' Print shape of the dataset '''\n",
        "\n",
        "# BEGIN_YOUR_CODE\n",
        "\n",
        "# END_YOUR_CODE"
      ]
    },
    {
      "cell_type": "code",
      "execution_count": 50,
      "metadata": {
        "colab": {
          "base_uri": "https://localhost:8080/",
          "height": 567
        },
        "id": "nFWD5zl8vnne",
        "outputId": "fbdf40d1-7b24-4cef-aa8e-8e2aff16989f"
      },
      "outputs": [
        {
          "output_type": "execute_result",
          "data": {
            "application/vnd.google.colaboratory.intrinsic+json": {
              "type": "string"
            },
            "text/plain": [
              "' Return all the colums names'"
            ]
          },
          "metadata": {},
          "execution_count": 50
        }
      ],
      "source": [
        "''' Return all the colums names'''\n",
        "\n",
        "# BEGIN_YOUR_CODE\n",
        "\n",
        "# END_YOUR_CODE"
      ]
    },
    {
      "cell_type": "code",
      "execution_count": 51,
      "metadata": {
        "colab": {
          "base_uri": "https://localhost:8080/",
          "height": 618
        },
        "id": "6-1Dj0sGvnng",
        "outputId": "6d75fcf8-79fd-4976-baa1-d14cabf2d7f4"
      },
      "outputs": [
        {
          "output_type": "execute_result",
          "data": {
            "application/vnd.google.colaboratory.intrinsic+json": {
              "type": "string"
            },
            "text/plain": [
              "' Print a list of museums types '"
            ]
          },
          "metadata": {},
          "execution_count": 51
        }
      ],
      "source": [
        "''' Print a list of museums types '''\n",
        "\n",
        "# BEGIN_YOUR_CODE\n",
        "\n",
        "# END_YOUR_CODE"
      ]
    },
    {
      "cell_type": "code",
      "execution_count": 52,
      "metadata": {
        "colab": {
          "base_uri": "https://localhost:8080/",
          "height": 958
        },
        "id": "wUSzjQC3vnng",
        "outputId": "e6942f35-821d-4071-b4c1-7c29e3dc39b9"
      },
      "outputs": [
        {
          "output_type": "execute_result",
          "data": {
            "application/vnd.google.colaboratory.intrinsic+json": {
              "type": "string"
            },
            "text/plain": [
              "' Return insight about index(columns) of museum.csv '"
            ]
          },
          "metadata": {},
          "execution_count": 52
        }
      ],
      "source": [
        "''' Return insight about index(columns) of museum.csv '''\n",
        "\n",
        "# BEGIN_YOUR_CODE\n",
        "\n",
        "# END_YOUR_CODE"
      ]
    },
    {
      "cell_type": "code",
      "execution_count": 53,
      "metadata": {
        "colab": {
          "base_uri": "https://localhost:8080/",
          "height": 635
        },
        "id": "NXuR-qE2k1yv",
        "outputId": "d6c6f1b5-3eb5-4caf-e6d9-88dd40fd1dc3"
      },
      "outputs": [
        {
          "output_type": "execute_result",
          "data": {
            "application/vnd.google.colaboratory.intrinsic+json": {
              "type": "string"
            },
            "text/plain": [
              "'Print top 10 rows of the dataset'"
            ]
          },
          "metadata": {},
          "execution_count": 53
        }
      ],
      "source": [
        "'''Print top 10 rows of the dataset'''\n",
        "\n",
        "# BEGIN_YOUR_CODE\n",
        "\n",
        "# END_YOUR_CODE"
      ]
    },
    {
      "cell_type": "markdown",
      "metadata": {
        "id": "YNq5ppEGvnnh"
      },
      "source": [
        "<a id='part5'></a>\n",
        "## Matplotlib Basics [20 points]"
      ]
    },
    {
      "cell_type": "markdown",
      "metadata": {
        "id": "MyidlhZlIPa2"
      },
      "source": [
        "Heatmaps are a useful plot tool which help us visualize the data density or distribution. Refer the below documentation for more details on heatmap.\n",
        "\n",
        "[Matplotlib tutorial](https://machinelearningknowledge.ai/matplotlib-heatmap-complete-tutorial-for-beginners/)\n",
        "\n",
        "**Note:** You can only use matplotlib library for the following tasks"
      ]
    },
    {
      "cell_type": "code",
      "execution_count": 54,
      "metadata": {
        "id": "bfFqEdGEvnnh",
        "colab": {
          "base_uri": "https://localhost:8080/",
          "height": 37
        },
        "outputId": "11e1bf40-c67d-47b0-c143-83fab08122ad"
      },
      "outputs": [
        {
          "output_type": "execute_result",
          "data": {
            "application/vnd.google.colaboratory.intrinsic+json": {
              "type": "string"
            },
            "text/plain": [
              "' Install and import matplotlib library\\n'"
            ]
          },
          "metadata": {},
          "execution_count": 54
        }
      ],
      "source": [
        "''' Install and import matplotlib library\n",
        "'''\n",
        "\n",
        "# BEGIN_YOUR_CODE\n",
        "\n",
        "# END_YOUR_CODE"
      ]
    },
    {
      "cell_type": "code",
      "execution_count": 55,
      "metadata": {
        "colab": {
          "base_uri": "https://localhost:8080/",
          "height": 37
        },
        "id": "25-jR3OHstb_",
        "outputId": "df5a54ff-f350-41b4-c5f6-53b838b93c3b"
      },
      "outputs": [
        {
          "output_type": "execute_result",
          "data": {
            "application/vnd.google.colaboratory.intrinsic+json": {
              "type": "string"
            },
            "text/plain": [
              "' Heatmap\\nTake any random numpy array of dimension 10x15 and plot a heatmap\\n'"
            ]
          },
          "metadata": {},
          "execution_count": 55
        }
      ],
      "source": [
        "''' Heatmap\n",
        "Take any random numpy array of dimension 10x15 and plot a heatmap\n",
        "'''\n",
        "\n",
        "# BEGIN YOUR CODE\n",
        "\n",
        "# END YOUR CODE"
      ]
    },
    {
      "cell_type": "code",
      "execution_count": 56,
      "metadata": {
        "id": "VD6WIdUU4-PA"
      },
      "outputs": [],
      "source": [
        "'''For the given value x plot the function y = 1/x using list comprehension on y.\n",
        "You can check https://docs.python.org/3/tutorial/datastructures.html#list-comprehensions to learn how to use list comprehension\n",
        "'''\n",
        "\n",
        "x = range(25)\n",
        "\n",
        "# BEGIN YOUR CODE\n",
        "\n",
        "# END YOUR CODE"
      ]
    },
    {
      "cell_type": "code",
      "execution_count": 57,
      "metadata": {
        "id": "GB4uqfd8K495"
      },
      "outputs": [],
      "source": [
        "'''For the given value x plot the function y = x^2 using lambda function y.\n",
        "\n",
        "Lambda function is a small anonymous function which consist of a single expression, and is usually used when we need the function for a smaller duration\n",
        "https://realpython.com/python-lambda/\n",
        "'''\n",
        "\n",
        "x = range(25)\n",
        "\n",
        "# BEGIN YOUR CODE\n",
        "\n",
        "# END YOUR CODE\n"
      ]
    },
    {
      "cell_type": "code",
      "execution_count": 58,
      "metadata": {
        "id": "lNRu3Ij7k1yx"
      },
      "outputs": [],
      "source": [
        "'''On one graph draw two lines:\n",
        "1) Plot the function y = x^2 using lambda function y (use your code from above)\n",
        "2) A scatter plot for y = x^3 using either list comprehension or lambda function for evaluating y\n",
        "'''\n",
        "\n",
        "x = range(25)\n",
        "\n",
        "# BEGIN YOUR CODE\n",
        "\n",
        "# END YOUR CODE"
      ]
    },
    {
      "cell_type": "code",
      "execution_count": 59,
      "metadata": {
        "id": "AEbDCKYH7UfV"
      },
      "outputs": [],
      "source": [
        "'''Create subplots showing graphs of tan and cot side by side of each other\n",
        "the value of theta ranges from -30 to 30\n",
        "\n",
        "HINT: You might want to utilize np.linespace() or np.arrange() to create smooth curves\n",
        "'''\n",
        "\n",
        "import math\n",
        "\n",
        "# BEGIN YOUR CODE\n",
        "\n",
        "# END YOUR CODE"
      ]
    },
    {
      "cell_type": "code",
      "execution_count": 60,
      "metadata": {
        "colab": {
          "base_uri": "https://localhost:8080/",
          "height": 37
        },
        "id": "8sKNFubwk1yx",
        "outputId": "feb2cac3-fca4-42c0-911e-52bca9eec83d"
      },
      "outputs": [
        {
          "output_type": "execute_result",
          "data": {
            "application/vnd.google.colaboratory.intrinsic+json": {
              "type": "string"
            },
            "text/plain": [
              "'Draw a line for given GPAs of students [3.5, 2.3, 3.8, 2.4, 2.9, 3.3] using markers\\n'"
            ]
          },
          "metadata": {},
          "execution_count": 60
        }
      ],
      "source": [
        "'''Draw a line for given GPAs of students [3.5, 2.3, 3.8, 2.4, 2.9, 3.3] using markers\n",
        "'''\n",
        "\n",
        "# BEGIN_YOUR_CODE\n",
        "\n",
        "# END_YOUR_CODE"
      ]
    },
    {
      "cell_type": "code",
      "execution_count": 61,
      "metadata": {
        "colab": {
          "base_uri": "https://localhost:8080/",
          "height": 54
        },
        "id": "jFQCvxFHk1yx",
        "outputId": "aae82b73-689e-41dd-86ab-7dd50ed94594"
      },
      "outputs": [
        {
          "output_type": "execute_result",
          "data": {
            "application/vnd.google.colaboratory.intrinsic+json": {
              "type": "string"
            },
            "text/plain": [
              "' Museum (\"museum.csv\"): total number of museums per type\\n\\nPlot a bar graph which shows the total number of museums in USA corresponding to the museum type\\n'"
            ]
          },
          "metadata": {},
          "execution_count": 61
        }
      ],
      "source": [
        "''' Museum (\"museum.csv\"): total number of museums per type\n",
        "\n",
        "Plot a bar graph which shows the total number of museums in USA corresponding to the museum type\n",
        "'''\n",
        "\n",
        "# BEGIN YOUR CODE\n",
        "\n",
        "# END YOUR CODE"
      ]
    },
    {
      "cell_type": "code",
      "execution_count": 62,
      "metadata": {
        "colab": {
          "base_uri": "https://localhost:8080/",
          "height": 54
        },
        "id": "yENY45pIs_S9",
        "outputId": "82c13348-b4b6-4dd9-99bc-525b7c204887"
      },
      "outputs": [
        {
          "output_type": "execute_result",
          "data": {
            "application/vnd.google.colaboratory.intrinsic+json": {
              "type": "string"
            },
            "text/plain": [
              "' Museum (\"museum.csv\"): total number of museums per state\\n\\nPlot a graph which shows the total number of museums per each state (\"State (Physical Location)\")\\n'"
            ]
          },
          "metadata": {},
          "execution_count": 62
        }
      ],
      "source": [
        "''' Museum (\"museum.csv\"): total number of museums per state\n",
        "\n",
        "Plot a graph which shows the total number of museums per each state (\"State (Physical Location)\")\n",
        "'''\n",
        "\n",
        "# BEGIN YOUR CODE\n",
        "\n",
        "# END YOUR CODE"
      ]
    },
    {
      "cell_type": "markdown",
      "metadata": {
        "id": "Oo6h1NH6R6Pq"
      },
      "source": [
        "#### Results analyzing\n",
        "\n",
        "Analyze the graph and answer the following two questions:\n",
        "\n",
        "**1) What is your inference from the above graph?**\n",
        "\n",
        "*YOUR ANSWER:*\n",
        "\n",
        "**2) Which state has the most number of museum?**\n",
        "\n",
        "*YOUR ANSWER:*\n",
        "\n",
        "**3) Which is the most common type of museum?**\n",
        "\n",
        "*YOUR ANSWER:*\n"
      ]
    },
    {
      "cell_type": "markdown",
      "metadata": {
        "id": "toxZCPhevnni"
      },
      "source": [
        "## References Used\n",
        "\n",
        "**List below all the references you used to complete the assignment**"
      ]
    },
    {
      "cell_type": "code",
      "execution_count": null,
      "metadata": {
        "id": "YW_6TvjFrilZ"
      },
      "outputs": [],
      "source": [
        "W3schools.com\n",
        "geeksforgeeks.com\n"
      ]
    }
  ],
  "metadata": {
    "celltoolbar": "Raw Cell Format",
    "colab": {
      "collapsed_sections": [
        "uiyFNoJivnnQ",
        "bE9PC_sEvnnQ",
        "lTuFruDrvnnR",
        "zGMa8NVpvnnU",
        "toxZCPhevnni"
      ],
      "name": "spring22_cse574_c&d_Assignment_1-2.ipynb",
      "provenance": []
    },
    "kernelspec": {
      "display_name": "Python 3 (ipykernel)",
      "language": "python",
      "name": "python3"
    },
    "language_info": {
      "codemirror_mode": {
        "name": "ipython",
        "version": 3
      },
      "file_extension": ".py",
      "mimetype": "text/x-python",
      "name": "python",
      "nbconvert_exporter": "python",
      "pygments_lexer": "ipython3",
      "version": "3.9.7"
    }
  },
  "nbformat": 4,
  "nbformat_minor": 0
}